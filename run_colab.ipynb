{
  "nbformat": 4,
  "nbformat_minor": 0,
  "metadata": {
    "colab": {
      "name": "run_colab.ipynb",
      "provenance": [],
      "collapsed_sections": [],
      "authorship_tag": "ABX9TyOPMlTKbABq1EysTc68DGHe",
      "include_colab_link": true
    },
    "kernelspec": {
      "name": "python3",
      "display_name": "Python 3"
    }
  },
  "cells": [
    {
      "cell_type": "markdown",
      "metadata": {
        "id": "view-in-github",
        "colab_type": "text"
      },
      "source": [
        "<a href=\"https://colab.research.google.com/github/respect5716/Image_Classification/blob/main/run_colab.ipynb\" target=\"_parent\"><img src=\"https://colab.research.google.com/assets/colab-badge.svg\" alt=\"Open In Colab\"/></a>"
      ]
    },
    {
      "cell_type": "markdown",
      "metadata": {
        "id": "ppLndlSNO9TX"
      },
      "source": [
        "# Image Classification"
      ]
    },
    {
      "cell_type": "code",
      "metadata": {
        "id": "C-j1G5D3PAG6"
      },
      "source": [
        "# clone github repository\r\n",
        "!git clone https://github.com/respect5716/Image_Classification.git\r\n",
        "%cd Image_Classification"
      ],
      "execution_count": null,
      "outputs": []
    },
    {
      "cell_type": "code",
      "metadata": {
        "id": "aoVSBAm8PQht"
      },
      "source": [
        "# install libraries\r\n",
        "!pip install -r requirements.txt"
      ],
      "execution_count": null,
      "outputs": []
    },
    {
      "cell_type": "code",
      "metadata": {
        "id": "0z_hQ3PtPTGK"
      },
      "source": [
        "# run experiment\r\n",
        "!python main.py --model vgg --project Image_Classification"
      ],
      "execution_count": null,
      "outputs": []
    }
  ]
}